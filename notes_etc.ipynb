{
 "metadata": {
  "language_info": {
   "codemirror_mode": {
    "name": "ipython",
    "version": 3
   },
   "file_extension": ".py",
   "mimetype": "text/x-python",
   "name": "python",
   "nbconvert_exporter": "python",
   "pygments_lexer": "ipython3",
   "version": "3.9.4-final"
  },
  "orig_nbformat": 2,
  "kernelspec": {
   "name": "python394jvsc74a57bd0bd35ea0ad4dfa0f67ccecd1e2596d32ed22f9874aa790554bf60d280f4f21529",
   "display_name": "Python 3.9.4 64-bit ('PLU_venv')"
  },
  "metadata": {
   "interpreter": {
    "hash": "bd35ea0ad4dfa0f67ccecd1e2596d32ed22f9874aa790554bf60d280f4f21529"
   }
  }
 },
 "nbformat": 4,
 "nbformat_minor": 2,
 "cells": [
  {
   "cell_type": "code",
   "execution_count": 2,
   "metadata": {},
   "outputs": [
    {
     "output_type": "stream",
     "name": "stdout",
     "text": [
      "d463b15d657baeb7e8d95fcc2c179251ff58302b62771abe9586f497865de93c08ad45696bafeae0b326221c04cf0525f845f8804af7f34b200aa31f4271ef72\nDifferent :(\n"
     ]
    }
   ],
   "source": [
    "import hashlib\n",
    "\n",
    "var = \"to+jest+admin\"\n",
    "print(hashlib.sha512(bytes(var, encoding='utf-8')).hexdigest())\n",
    "chck = \"a163b6fdfc220714d2774d1ca9819f4e993a57f1ddadbf0847af84c8403ad65c1b22fff2fbbff6680724bc255e0bfc843e11a66a77b9129d922c3341b48d243d\"\n",
    "\n",
    "if(chck == str(hashlib.sha512(bytes(var, encoding='utf-8')).hexdigest())):\n",
    "    print(\"Same :)\")\n",
    "else:\n",
    "    print(\"Different :(\")"
   ]
  },
  {
   "source": [
    "Test datetime :))"
   ],
   "cell_type": "markdown",
   "metadata": {}
  },
  {
   "cell_type": "code",
   "execution_count": 9,
   "metadata": {},
   "outputs": [
    {
     "output_type": "stream",
     "name": "stdout",
     "text": [
      "2021-04-18\n2021-04-27\n"
     ]
    }
   ],
   "source": [
    "import datetime\n",
    "\n",
    "register_date = datetime.date.today()\n",
    "vaccination_date = register_date + datetime.timedelta(days = (4 + 5))\n",
    "\n",
    "print(register_date)\n",
    "print(vaccination_date)"
   ]
  },
  {
   "cell_type": "code",
   "execution_count": null,
   "metadata": {},
   "outputs": [],
   "source": []
  }
 ]
}