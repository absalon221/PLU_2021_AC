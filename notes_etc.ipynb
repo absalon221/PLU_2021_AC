{
 "metadata": {
  "language_info": {
   "codemirror_mode": {
    "name": "ipython",
    "version": 3
   },
   "file_extension": ".py",
   "mimetype": "text/x-python",
   "name": "python",
   "nbconvert_exporter": "python",
   "pygments_lexer": "ipython3",
   "version": "3.9.4-final"
  },
  "orig_nbformat": 2,
  "kernelspec": {
   "name": "python394jvsc74a57bd0bd35ea0ad4dfa0f67ccecd1e2596d32ed22f9874aa790554bf60d280f4f21529",
   "display_name": "Python 3.9.4 64-bit ('PLU_venv')"
  },
  "metadata": {
   "interpreter": {
    "hash": "bd35ea0ad4dfa0f67ccecd1e2596d32ed22f9874aa790554bf60d280f4f21529"
   }
  }
 },
 "nbformat": 4,
 "nbformat_minor": 2,
 "cells": [
  {
   "cell_type": "code",
   "execution_count": 6,
   "metadata": {},
   "outputs": [
    {
     "output_type": "stream",
     "name": "stdout",
     "text": [
      "53b74be8b295b733fdfafbd7d2a22b1686733740de7fdc592b26cf3e1874cfce158170ce9230e24696331a61829244e5d9f48abdacc9ffa8c4cb498724844cf8\nSame :)\n"
     ]
    }
   ],
   "source": [
    "import hashlib\n",
    "\n",
    "var = \"AAAA\"\n",
    "print(hashlib.sha512(bytes(var, encoding='utf-8')).hexdigest())\n",
    "chck = \"53b74be8b295b733fdfafbd7d2a22b1686733740de7fdc592b26cf3e1874cfce158170ce9230e24696331a61829244e5d9f48abdacc9ffa8c4cb498724844cf8\"\n",
    "\n",
    "if(chck == str(hashlib.sha512(bytes(var, encoding='utf-8')).hexdigest())):\n",
    "    print(\"Same :)\")\n",
    "else:\n",
    "    printf(\"Different :(\")"
   ]
  },
  {
   "cell_type": "code",
   "execution_count": null,
   "metadata": {},
   "outputs": [],
   "source": []
  }
 ]
}